{
 "cells": [
  {
   "cell_type": "markdown",
   "id": "e62dcb21",
   "metadata": {},
   "source": [
    "# 📘 Common Task 2 – Graph-based Jet Classification (DeepFalcon GSoC 2025)"
   ]
  },
  {
   "cell_type": "markdown",
   "id": "797487da",
   "metadata": {},
   "source": [
    "### ✅ Setup: Install Required Libraries"
   ]
  },
  {
   "cell_type": "code",
   "execution_count": null,
   "id": "191ff31d",
   "metadata": {},
   "outputs": [],
   "source": [
    "!pip install -q torch-scatter -f https://data.pyg.org/whl/torch-2.0.0+cu118.html\n",
    "!pip install -q torch-sparse -f https://data.pyg.org/whl/torch-2.0.0+cu118.html\n",
    "!pip install -q torch-geometric\n",
    "!pip install -q h5py imageio seaborn open3d tqdm\n"
   ]
  },
  {
   "cell_type": "markdown",
   "id": "33b4d151",
   "metadata": {},
   "source": [
    "### ✅ Step 1: Import Libraries"
   ]
  },
  {
   "cell_type": "code",
   "execution_count": null,
   "id": "888b0617",
   "metadata": {},
   "outputs": [],
   "source": [
    "import os\n",
    "import numpy as np\n",
    "import torch\n",
    "import torch.nn.functional as F\n",
    "from torch.utils.data import Dataset, DataLoader\n",
    "import matplotlib.pyplot as plt\n",
    "\n",
    "from torch_geometric.data import Data\n",
    "from torch_geometric.nn import GCNConv, global_mean_pool\n",
    "\n",
    "import random\n",
    "from sklearn.metrics import classification_report, accuracy_score\n"
   ]
  },
  {
   "cell_type": "markdown",
   "id": "2d8b5781",
   "metadata": {},
   "source": [
    "### ✅ Step 2: Convert Jet Images to Point Cloud Graphs"
   ]
  },
  {
   "cell_type": "code",
   "execution_count": null,
   "id": "2b59fce9",
   "metadata": {},
   "outputs": [],
   "source": [
    "class JetGraphDataset(Dataset):\n",
    "    def __init__(self, npz_path):\n",
    "        data = np.load(npz_path)\n",
    "        self.ecal = data['ecal']\n",
    "        self.hcal = data['hcal']\n",
    "        self.track = data['track']\n",
    "        self.labels = data['labels']  # quark = 0, gluon = 1\n",
    "\n",
    "    def __len__(self):\n",
    "        return len(self.labels)\n",
    "\n",
    "    def __getitem__(self, idx):\n",
    "        images = [self.ecal[idx], self.hcal[idx], self.track[idx]]\n",
    "        label = self.labels[idx]\n",
    "\n",
    "        points = []\n",
    "        for ch, img in enumerate(images):\n",
    "            y, x = np.nonzero(img)\n",
    "            energy = img[y, x]\n",
    "            for i in range(len(x)):\n",
    "                points.append([x[i], y[i], energy[i], ch])\n",
    "\n",
    "        points = np.array(points)\n",
    "        if len(points) == 0:\n",
    "            points = np.zeros((1, 4))\n",
    "\n",
    "        x = torch.tensor(points[:, :3], dtype=torch.float)\n",
    "        edge_index = self.build_knn_edges(x, k=8)\n",
    "        return Data(x=x, edge_index=edge_index, y=torch.tensor(label, dtype=torch.long))\n",
    "\n",
    "    def build_knn_edges(self, x, k=8):\n",
    "        from sklearn.neighbors import NearestNeighbors\n",
    "        x_np = x[:, :2].numpy()\n",
    "        knn = NearestNeighbors(n_neighbors=min(k, len(x_np)))\n",
    "        knn.fit(x_np)\n",
    "        _, indices = knn.kneighbors(x_np)\n",
    "        row = []\n",
    "        col = []\n",
    "        for i, neighbors in enumerate(indices):\n",
    "            for j in neighbors:\n",
    "                row.append(i)\n",
    "                col.append(j)\n",
    "        edge_index = torch.tensor([row, col], dtype=torch.long)\n",
    "        return edge_index\n"
   ]
  },
  {
   "cell_type": "markdown",
   "id": "803379e6",
   "metadata": {},
   "source": [
    "### ✅ Step 3: Define GCN Classifier"
   ]
  },
  {
   "cell_type": "code",
   "execution_count": null,
   "id": "fe3e5ad7",
   "metadata": {},
   "outputs": [],
   "source": [
    "from torch_geometric.nn import GCNConv\n",
    "\n",
    "class GCN(torch.nn.Module):\n",
    "    def __init__(self, input_dim=3, hidden_dim=64):\n",
    "        super(GCN, self).__init__()\n",
    "        self.conv1 = GCNConv(input_dim, hidden_dim)\n",
    "        self.conv2 = GCNConv(hidden_dim, hidden_dim)\n",
    "        self.lin = torch.nn.Linear(hidden_dim, 2)\n",
    "\n",
    "    def forward(self, x, edge_index, batch):\n",
    "        x = F.relu(self.conv1(x, edge_index))\n",
    "        x = F.relu(self.conv2(x, edge_index))\n",
    "        x = global_mean_pool(x, batch)\n",
    "        return self.lin(x)\n"
   ]
  },
  {
   "cell_type": "markdown",
   "id": "4de6bf82",
   "metadata": {},
   "source": [
    "### ✅ Step 4: Load Dataset and Train GCN"
   ]
  },
  {
   "cell_type": "code",
   "execution_count": null,
   "id": "3aedaf02",
   "metadata": {},
   "outputs": [],
   "source": [
    "from torch_geometric.loader import DataLoader\n",
    "\n",
    "# NOTE: Replace path with your real dataset path\n",
    "graph_dataset = JetGraphDataset(\"/content/jet_images_3ch.npz\")\n",
    "\n",
    "# Shuffle and split\n",
    "train_size = int(0.8 * len(graph_dataset))\n",
    "val_size = len(graph_dataset) - train_size\n",
    "train_dataset, val_dataset = torch.utils.data.random_split(graph_dataset, [train_size, val_size])\n",
    "\n",
    "train_loader = DataLoader(train_dataset, batch_size=32, shuffle=True)\n",
    "val_loader = DataLoader(val_dataset, batch_size=32)\n",
    "\n",
    "device = torch.device(\"cuda\" if torch.cuda.is_available() else \"cpu\")\n",
    "model = GCN().to(device)\n",
    "optimizer = torch.optim.Adam(model.parameters(), lr=0.001)\n",
    "criterion = torch.nn.CrossEntropyLoss()\n",
    "\n",
    "for epoch in range(1, 11):\n",
    "    model.train()\n",
    "    total_loss = 0\n",
    "    for batch in train_loader:\n",
    "        batch = batch.to(device)\n",
    "        out = model(batch.x, batch.edge_index, batch.batch)\n",
    "        loss = criterion(out, batch.y)\n",
    "        loss.backward()\n",
    "        optimizer.step()\n",
    "        optimizer.zero_grad()\n",
    "        total_loss += loss.item()\n",
    "    print(f\"Epoch {epoch}, Loss: {total_loss/len(train_loader):.4f}\")\n"
   ]
  },
  {
   "cell_type": "markdown",
   "id": "16b58222",
   "metadata": {},
   "source": [
    "### ✅ Step 5: Evaluate Model"
   ]
  },
  {
   "cell_type": "code",
   "execution_count": null,
   "id": "0b2a3791",
   "metadata": {},
   "outputs": [],
   "source": [
    "model.eval()\n",
    "y_true = []\n",
    "y_pred = []\n",
    "\n",
    "with torch.no_grad():\n",
    "    for batch in val_loader:\n",
    "        batch = batch.to(device)\n",
    "        out = model(batch.x, batch.edge_index, batch.batch)\n",
    "        pred = out.argmax(dim=1)\n",
    "        y_true += batch.y.cpu().numpy().tolist()\n",
    "        y_pred += pred.cpu().numpy().tolist()\n",
    "\n",
    "print(classification_report(y_true, y_pred, target_names=['quark', 'gluon']))\n",
    "print(f\"Accuracy: {accuracy_score(y_true, y_pred):.4f}\")\n"
   ]
  }
 ],
 "metadata": {},
 "nbformat": 4,
 "nbformat_minor": 5
}