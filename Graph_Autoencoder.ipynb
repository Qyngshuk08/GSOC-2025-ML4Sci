
# 📘 Specific Task 1 – Graph Autoencoder on Jet Images (DeepFalcon GSoC 2025)

# ✅ Setup: Install Required Libraries for Google Colab
!pip install -q torch-scatter -f https://data.pyg.org/whl/torch-2.0.0+cu118.html
!pip install -q torch-sparse -f https://data.pyg.org/whl/torch-2.0.0+cu118.html
!pip install -q torch-geometric
!pip install -q h5py imageio seaborn open3d tqdm

# ✅ Step 1: Import Libraries
import torch
import torch.nn as nn
import torch.nn.functional as F
import numpy as np
from torch_geometric.data import Data, DataLoader
from torch_geometric.nn import GCNConv, global_mean_pool
import matplotlib.pyplot as plt

# ✅ Step 2: Load NPZ and Convert to Graph Dataset
class JetGraphDataset(torch.utils.data.Dataset):
    def __init__(self, path):
        data = np.load(path)
        self.ecal = data['ecal']
        self.hcal = data['hcal']
        self.track = data['track']

    def __len__(self):
        return len(self.ecal)

    def __getitem__(self, idx):
        ecal_img = self.ecal[idx]
        hcal_img = self.hcal[idx]
        track_img = self.track[idx]

        # Combine channels and find non-zero pixels
        image = ecal_img + hcal_img + track_img
        points = np.argwhere(image > 0)
        features = np.stack([ecal_img[image > 0], hcal_img[image > 0], track_img[image > 0]], axis=1)

        # Build k-NN edges
        from sklearn.neighbors import NearestNeighbors
        nbrs = NearestNeighbors(n_neighbors=8).fit(points)
        edges = nbrs.kneighbors_graph(points).tocoo()
        edge_index = torch.tensor(np.vstack((edges.row, edges.col)), dtype=torch.long)

        return Data(x=torch.tensor(features, dtype=torch.float),
                    edge_index=edge_index,
                    pos=torch.tensor(points, dtype=torch.float))

dataset = JetGraphDataset('/content/jet_images_3ch.npz')
loader = DataLoader(dataset, batch_size=32)

# ✅ Step 3: Define Graph Autoencoder
class GraphEncoder(nn.Module):
    def __init__(self, in_channels, hidden_dim, latent_dim):
        super().__init__()
        self.conv1 = GCNConv(in_channels, hidden_dim)
        self.conv2 = GCNConv(hidden_dim, latent_dim)

    def forward(self, x, edge_index):
        x = F.relu(self.conv1(x, edge_index))
        x = self.conv2(x, edge_index)
        return x

class GraphDecoder(nn.Module):
    def __init__(self, latent_dim, out_channels):
        super().__init__()
        self.fc = nn.Linear(latent_dim, out_channels)

    def forward(self, z):
        return self.fc(z)

class GraphAutoEncoder(nn.Module):
    def __init__(self, in_channels=3, hidden_dim=32, latent_dim=16):
        super().__init__()
        self.encoder = GraphEncoder(in_channels, hidden_dim, latent_dim)
        self.decoder = GraphDecoder(latent_dim, in_channels)

    def forward(self, data):
        z = self.encoder(data.x, data.edge_index)
        x_recon = self.decoder(z)
        return x_recon

# ✅ Step 4: Train Model
device = torch.device('cuda' if torch.cuda.is_available() else 'cpu')
model = GraphAutoEncoder().to(device)
optimizer = torch.optim.Adam(model.parameters(), lr=1e-3)
loss_fn = nn.MSELoss()

def train():
    model.train()
    total_loss = 0
    for data in loader:
        data = data.to(device)
        x_recon = model(data)
        loss = loss_fn(x_recon, data.x)
        optimizer.zero_grad()
        loss.backward()
        optimizer.step()
        total_loss += loss.item()
    return total_loss / len(loader)

for epoch in range(1, 11):
    loss = train()
    print(f"Epoch {epoch}, Loss: {loss:.4f}")

# ✅ Step 5: Evaluate Visually
def plot_graph(data, recon_x, num=1):
    data = data.to('cpu')
    recon_x = recon_x.detach().cpu()
    fig, axs = plt.subplots(num, 2, figsize=(8, 4*num))
    for i in range(num):
        axs[i, 0].scatter(data.pos[:, 0], data.pos[:, 1], c=data.x[:, 0], cmap='viridis')
        axs[i, 0].set_title("Original")
        axs[i, 1].scatter(data.pos[:, 0], data.pos[:, 1], c=recon_x[:, 0], cmap='viridis')
        axs[i, 1].set_title("Reconstructed")
    plt.tight_layout()
    plt.show()

model.eval()
with torch.no_grad():
    sample = dataset[0].to(device)
    recon_x = model(sample)
    plot_graph(sample, recon_x)
